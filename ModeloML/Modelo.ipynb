{
 "cells": [
  {
   "cell_type": "code",
   "execution_count": 1,
   "metadata": {},
   "outputs": [],
   "source": [
    "#pip install streamlit\n",
    "#pip install streamlit-option-menu"
   ]
  },
  {
   "cell_type": "code",
   "execution_count": 2,
   "metadata": {},
   "outputs": [],
   "source": [
    "import pandas as pd\n",
    "import numpy as np\n",
    "import matplotlib.pyplot as plt\n",
    "import seaborn as sns\n",
    "import os\n",
    "import sys"
   ]
  },
  {
   "cell_type": "code",
   "execution_count": 3,
   "metadata": {},
   "outputs": [],
   "source": [
    "#lectura archivo consulta\n",
    "df = pd.read_csv('consulta.csv', sep=',', encoding='latin-1')"
   ]
  },
  {
   "cell_type": "code",
   "execution_count": 4,
   "metadata": {},
   "outputs": [
    {
     "data": {
      "text/html": [
       "<div>\n",
       "<style scoped>\n",
       "    .dataframe tbody tr th:only-of-type {\n",
       "        vertical-align: middle;\n",
       "    }\n",
       "\n",
       "    .dataframe tbody tr th {\n",
       "        vertical-align: top;\n",
       "    }\n",
       "\n",
       "    .dataframe thead th {\n",
       "        text-align: right;\n",
       "    }\n",
       "</style>\n",
       "<table border=\"1\" class=\"dataframe\">\n",
       "  <thead>\n",
       "    <tr style=\"text-align: right;\">\n",
       "      <th></th>\n",
       "      <th>IdCategorias</th>\n",
       "      <th>categoria</th>\n",
       "      <th>precio</th>\n",
       "      <th>cuotas</th>\n",
       "      <th>medio_de_pago</th>\n",
       "      <th>payment_value</th>\n",
       "      <th>puntaje</th>\n",
       "      <th>IdCiudad</th>\n",
       "      <th>ciudad</th>\n",
       "    </tr>\n",
       "  </thead>\n",
       "  <tbody>\n",
       "    <tr>\n",
       "      <th>0</th>\n",
       "      <td>1</td>\n",
       "      <td>agro_industria_e_comercio</td>\n",
       "      <td>19.50</td>\n",
       "      <td>1</td>\n",
       "      <td>credit_card</td>\n",
       "      <td>27.79</td>\n",
       "      <td>5</td>\n",
       "      <td>5514</td>\n",
       "      <td>sao paulo</td>\n",
       "    </tr>\n",
       "    <tr>\n",
       "      <th>1</th>\n",
       "      <td>1</td>\n",
       "      <td>agro_industria_e_comercio</td>\n",
       "      <td>429.00</td>\n",
       "      <td>6</td>\n",
       "      <td>credit_card</td>\n",
       "      <td>927.60</td>\n",
       "      <td>1</td>\n",
       "      <td>1707</td>\n",
       "      <td>curitiba</td>\n",
       "    </tr>\n",
       "    <tr>\n",
       "      <th>2</th>\n",
       "      <td>1</td>\n",
       "      <td>agro_industria_e_comercio</td>\n",
       "      <td>429.00</td>\n",
       "      <td>6</td>\n",
       "      <td>credit_card</td>\n",
       "      <td>927.60</td>\n",
       "      <td>1</td>\n",
       "      <td>1707</td>\n",
       "      <td>curitiba</td>\n",
       "    </tr>\n",
       "    <tr>\n",
       "      <th>3</th>\n",
       "      <td>1</td>\n",
       "      <td>agro_industria_e_comercio</td>\n",
       "      <td>495.60</td>\n",
       "      <td>1</td>\n",
       "      <td>debit_card</td>\n",
       "      <td>523.23</td>\n",
       "      <td>4</td>\n",
       "      <td>1362</td>\n",
       "      <td>caxias do sul</td>\n",
       "    </tr>\n",
       "    <tr>\n",
       "      <th>4</th>\n",
       "      <td>1</td>\n",
       "      <td>agro_industria_e_comercio</td>\n",
       "      <td>161.99</td>\n",
       "      <td>1</td>\n",
       "      <td>debit_card</td>\n",
       "      <td>182.68</td>\n",
       "      <td>4</td>\n",
       "      <td>1334</td>\n",
       "      <td>catanduva</td>\n",
       "    </tr>\n",
       "    <tr>\n",
       "      <th>...</th>\n",
       "      <td>...</td>\n",
       "      <td>...</td>\n",
       "      <td>...</td>\n",
       "      <td>...</td>\n",
       "      <td>...</td>\n",
       "      <td>...</td>\n",
       "      <td>...</td>\n",
       "      <td>...</td>\n",
       "      <td>...</td>\n",
       "    </tr>\n",
       "    <tr>\n",
       "      <th>113084</th>\n",
       "      <td>71</td>\n",
       "      <td>utilidades_domesticas</td>\n",
       "      <td>79.00</td>\n",
       "      <td>8</td>\n",
       "      <td>credit_card</td>\n",
       "      <td>97.13</td>\n",
       "      <td>5</td>\n",
       "      <td>4179</td>\n",
       "      <td>pedreira</td>\n",
       "    </tr>\n",
       "    <tr>\n",
       "      <th>113085</th>\n",
       "      <td>71</td>\n",
       "      <td>utilidades_domesticas</td>\n",
       "      <td>84.99</td>\n",
       "      <td>1</td>\n",
       "      <td>credit_card</td>\n",
       "      <td>103.86</td>\n",
       "      <td>5</td>\n",
       "      <td>5514</td>\n",
       "      <td>sao paulo</td>\n",
       "    </tr>\n",
       "    <tr>\n",
       "      <th>113086</th>\n",
       "      <td>71</td>\n",
       "      <td>utilidades_domesticas</td>\n",
       "      <td>34.20</td>\n",
       "      <td>1</td>\n",
       "      <td>boleto</td>\n",
       "      <td>101.60</td>\n",
       "      <td>5</td>\n",
       "      <td>5514</td>\n",
       "      <td>sao paulo</td>\n",
       "    </tr>\n",
       "    <tr>\n",
       "      <th>113087</th>\n",
       "      <td>71</td>\n",
       "      <td>utilidades_domesticas</td>\n",
       "      <td>34.20</td>\n",
       "      <td>1</td>\n",
       "      <td>boleto</td>\n",
       "      <td>101.60</td>\n",
       "      <td>5</td>\n",
       "      <td>5514</td>\n",
       "      <td>sao paulo</td>\n",
       "    </tr>\n",
       "    <tr>\n",
       "      <th>113088</th>\n",
       "      <td>71</td>\n",
       "      <td>utilidades_domesticas</td>\n",
       "      <td>150.00</td>\n",
       "      <td>2</td>\n",
       "      <td>credit_card</td>\n",
       "      <td>168.08</td>\n",
       "      <td>5</td>\n",
       "      <td>5514</td>\n",
       "      <td>sao paulo</td>\n",
       "    </tr>\n",
       "  </tbody>\n",
       "</table>\n",
       "<p>113089 rows × 9 columns</p>\n",
       "</div>"
      ],
      "text/plain": [
       "        IdCategorias                  categoria  precio  cuotas medio_de_pago  \\\n",
       "0                  1  agro_industria_e_comercio   19.50       1   credit_card   \n",
       "1                  1  agro_industria_e_comercio  429.00       6   credit_card   \n",
       "2                  1  agro_industria_e_comercio  429.00       6   credit_card   \n",
       "3                  1  agro_industria_e_comercio  495.60       1    debit_card   \n",
       "4                  1  agro_industria_e_comercio  161.99       1    debit_card   \n",
       "...              ...                        ...     ...     ...           ...   \n",
       "113084            71      utilidades_domesticas   79.00       8   credit_card   \n",
       "113085            71      utilidades_domesticas   84.99       1   credit_card   \n",
       "113086            71      utilidades_domesticas   34.20       1        boleto   \n",
       "113087            71      utilidades_domesticas   34.20       1        boleto   \n",
       "113088            71      utilidades_domesticas  150.00       2   credit_card   \n",
       "\n",
       "        payment_value  puntaje  IdCiudad         ciudad  \n",
       "0               27.79        5      5514      sao paulo  \n",
       "1              927.60        1      1707       curitiba  \n",
       "2              927.60        1      1707       curitiba  \n",
       "3              523.23        4      1362  caxias do sul  \n",
       "4              182.68        4      1334      catanduva  \n",
       "...               ...      ...       ...            ...  \n",
       "113084          97.13        5      4179       pedreira  \n",
       "113085         103.86        5      5514      sao paulo  \n",
       "113086         101.60        5      5514      sao paulo  \n",
       "113087         101.60        5      5514      sao paulo  \n",
       "113088         168.08        5      5514      sao paulo  \n",
       "\n",
       "[113089 rows x 9 columns]"
      ]
     },
     "execution_count": 4,
     "metadata": {},
     "output_type": "execute_result"
    }
   ],
   "source": [
    "df"
   ]
  },
  {
   "cell_type": "code",
   "execution_count": 5,
   "metadata": {},
   "outputs": [
    {
     "data": {
      "text/plain": [
       "array(['credit_card', 'debit_card', 'boleto', 'voucher'], dtype=object)"
      ]
     },
     "execution_count": 5,
     "metadata": {},
     "output_type": "execute_result"
    }
   ],
   "source": [
    "df['medio_de_pago'].unique()"
   ]
  },
  {
   "cell_type": "code",
   "execution_count": 6,
   "metadata": {},
   "outputs": [],
   "source": [
    "#eliminar columnas que no se usaran en el analisis categoria, y convertir medio_pago y ciudad en categoricas\n",
    "df = df.drop(['categoria'], axis=1)\n",
    "df=df.drop(['ciudad'], axis=1)\n",
    "df = pd.get_dummies(df, columns=['medio_de_pago'])\n"
   ]
  },
  {
   "cell_type": "code",
   "execution_count": 7,
   "metadata": {},
   "outputs": [
    {
     "data": {
      "text/plain": [
       "Index(['IdCategorias', 'precio', 'cuotas', 'payment_value', 'puntaje',\n",
       "       'IdCiudad', 'medio_de_pago_boleto', 'medio_de_pago_credit_card',\n",
       "       'medio_de_pago_debit_card', 'medio_de_pago_voucher'],\n",
       "      dtype='object')"
      ]
     },
     "execution_count": 7,
     "metadata": {},
     "output_type": "execute_result"
    }
   ],
   "source": [
    "df.columns"
   ]
  },
  {
   "cell_type": "code",
   "execution_count": 8,
   "metadata": {},
   "outputs": [],
   "source": [
    "# uso de libreria xgboost en regresion para predecir la variable respuesta es payment_value, usaremos optuna para optimizar los hiperparametros y asi obtener el mejor modelo, luego guardar el modelo en un archivo pickle\n",
    "import xgboost as xgb\n",
    "import optuna\n",
    "from sklearn.model_selection import train_test_split\n",
    "from sklearn.metrics import mean_squared_error\n",
    "from sklearn.metrics import mean_absolute_error\n",
    "from sklearn.metrics import r2_score\n",
    "import pickle\n",
    "\n",
    "#separacion de variables independientes y dependientes\n",
    "X = df.drop(['payment_value'], axis=1)\n",
    "y = df['payment_value']\n",
    "\n",
    "#separacion de datos de entrenamiento y test\n",
    "X_train, X_test, y_train, y_test = train_test_split(X, y, test_size=0.2, random_state=123)\n",
    "\n",
    "#funcion objetivo para optimizar hiperparametros\n",
    "\n",
    "def objective(trial):\n",
    "    dtrain = xgb.DMatrix(X_train, label=y_train,enable_categorical=True)\n",
    "    dtest = xgb.DMatrix(X_test, label=y_test,enable_categorical=True)\n",
    "    param = {\n",
    "        #'silent': 1,\n",
    "        'objective': 'reg:squarederror',\n",
    "        'eval_metric': 'rmse',\n",
    "        'booster': trial.suggest_categorical('booster', ['gbtree', 'gblinear', 'dart']),\n",
    "        'lambda': trial.suggest_float('lambda', 1e-8, 1.0),\n",
    "        'alpha': trial.suggest_float('alpha', 1e-8, 1.0),\n",
    "        'max_depth': trial.suggest_int('max_depth', 1, 9),\n",
    "        'eta': trial.suggest_float('eta', 1e-8, 1.0),\n",
    "        'gamma': trial.suggest_float('gamma', 1e-8, 1.0),\n",
    "        'grow_policy': trial.suggest_categorical('grow_policy', ['depthwise', 'lossguide']),\n",
    "        'subsample': trial.suggest_float('subsample', 0.5, 1.0),\n",
    "        'colsample_bytree': trial.suggest_float('colsample_bytree', 0.5, 1.0),\n",
    "        'min_child_weight': trial.suggest_int('min_child_weight', 1, 300),\n",
    "        'max_delta_step': trial.suggest_int('max_delta_step', 1, 10),\n",
    "        'sampling_method': trial.suggest_categorical('sampling_method', ['uniform', 'gradient_based']),\n",
    "        #'normalize_type': trial.suggest_categorical('normalize_type', ['tree', 'forest']),\n",
    "        #'rate_drop': trial.suggest_float('rate_drop', 1e-8, 1.0),\n",
    "        #'skip_drop': trial.suggest_float('skip_drop', 1e-8, 1.0),\n",
    "        'tree_method': 'gpu_hist',\n",
    "        'gpu_id': '0'\n",
    "    }\n",
    "    \n",
    "    bst = xgb.train(param, dtrain)\n",
    "    preds = bst.predict(dtest)\n",
    "    pred_labels = np.rint(preds)\n",
    "    rmse = mean_squared_error(y_test, pred_labels, squared=False)\n",
    "    return rmse\n",
    "\n",
    "#optimizacion de hiperparametros\n",
    "study = optuna.create_study(direction='minimize')\n",
    "study.optimize(objective, n_trials=500)\n",
    "print('Number of finished trials:', len(study.trials))\n",
    "print('Best trial:', study.best_trial.params)\n",
    "\n",
    "#entrenamiento del modelo con los mejores hiperparametros\n",
    "dtrain = xgb.DMatrix(X_train, label=y_train)\n",
    "dtest = xgb.DMatrix(X_test, label=y_test)\n",
    "\n",
    "param = { #'silent': 1,\n",
    "            'objective':'reg:squarederror',\n",
    "            'eval_metric':'rmse',\n",
    "            'booster': study.best_trial.params['booster'],\n",
    "            'lambda': study.best_trial.params['lambda'],\n",
    "            'alpha': study.best_trial.params['alpha'],\n",
    "            'max_depth': study.best_trial.params['max_depth'],\n",
    "            'eta': study.best_trial.params['eta'],\n",
    "            'gamma': study.best_trial.params['gamma'],\n",
    "            'grow_policy': study.best_trial.params['grow_policy'],\n",
    "            'subsample': study.best_trial.params['subsample'],\n",
    "            'colsample_bytree': study.best_trial.params['colsample_bytree'],\n",
    "            'min_child_weight': study.best_trial.params['min_child_weight'],\n",
    "            'max_delta_step': study.best_trial.params['max_delta_step'],\n",
    "            'sampling_method': study.best_trial.params['sampling_method'],\n",
    "            #'normalize_type': study.best_trial.params['normalize_type'],\n",
    "            #'rate_drop': study.best_trial.params['rate_drop'],\n",
    "            #'skip_drop': study.best_trial.params['skip_drop'],\n",
    "            'tree_method': 'gpu_hist',\n",
    "            'gpu_id': '0'\n",
    "\n",
    "            }\n",
    "num_round = 100\n",
    "bst = xgb.train(param, dtrain, num_round)"
   ]
  },
  {
   "cell_type": "code",
   "execution_count": null,
   "metadata": {},
   "outputs": [],
   "source": [
    "#prediccion de datos de test\n",
    "preds = bst.predict(dtest)\n",
    "pred_labels = np.rint(preds)\n",
    "\n",
    "#evaluacion del modelo\n",
    "rmse = mean_squared_error(y_test, pred_labels, squared=False)\n",
    "print('RMSE: %.3f' % rmse)\n",
    "mae = mean_absolute_error(y_test, pred_labels)\n",
    "print('MAE: %.3f' % mae)\n",
    "r2 = r2_score(y_test, pred_labels)\n",
    "print('R2: %.3f' % r2)\n",
    "\n",
    "#guardar modelo en archivo pickle\n",
    "pickle.dump(bst, open('model.pkl', 'wb'))\n",
    "\n",
    "#grafico de importancia de variables\n",
    "xgb.plot_importance(bst)\n",
    "plt.rcParams['figure.figsize'] = [5, 5]\n",
    "plt.show()"
   ]
  },
  {
   "cell_type": "code",
   "execution_count": 11,
   "metadata": {},
   "outputs": [
    {
     "name": "stdout",
     "output_type": "stream",
     "text": [
      "RMSE: 104.714\n",
      "MAE: 49.377\n",
      "R2: 0.836\n"
     ]
    },
    {
     "data": {
      "image/png": "[encoded data removed]",
      "text/plain": [
       "<Figure size 640x480 with 1 Axes>"
      ]
     },
     "metadata": {},
     "output_type": "display_data"
    },
    {
     "data": {
      "text/plain": [
       "['model1.joblib']"
      ]
     },
     "execution_count": 11,
     "metadata": {},
     "output_type": "execute_result"
    }
   ],
   "source": [
    "# xgboost con scikit-learn\n",
    "from xgboost import XGBRegressor\n",
    "from sklearn.metrics import accuracy_score\n",
    "from sklearn.model_selection import cross_val_score\n",
    "from sklearn.model_selection import RepeatedKFold\n",
    "from numpy import absolute\n",
    "from numpy import mean\n",
    "from numpy import std\n",
    "\n",
    "#entrenamiento del modelo\n",
    "model = XGBRegressor()\n",
    "model.fit(X_train, y_train)\n",
    "\n",
    "#prediccion de datos de test\n",
    "y_pred = model.predict(X_test)\n",
    "predictions = [round(value) for value in y_pred]\n",
    "\n",
    "#evaluacion del modelo\n",
    "rmse = mean_squared_error(y_test, predictions, squared=False)\n",
    "print('RMSE: %.3f' % rmse)\n",
    "mae = mean_absolute_error(y_test, predictions)\n",
    "print('MAE: %.3f' % mae)\n",
    "r2 = r2_score(y_test, predictions)\n",
    "print('R2: %.3f' % r2)\n",
    "\n",
    "#grafico de importancia de variables\n",
    "xgb.plot_importance(model)\n",
    "plt.rcParams['figure.figsize'] = [5, 5]\n",
    "plt.show()\n",
    "\n",
    "# guardar modelo en archivo joblib\n",
    "from joblib import dump\n",
    "dump(model, 'model1.joblib')\n"
   ]
  },
  {
   "cell_type": "code",
   "execution_count": null,
   "metadata": {},
   "outputs": [],
   "source": [
    "#cargar modelo joblib\n",
    "from joblib import load\n",
    "model = load('model1.joblib')\n"
   ]
  },
  {
   "cell_type": "code",
   "execution_count": 14,
   "metadata": {},
   "outputs": [
    {
     "data": {
      "text/plain": [
       "['IdCategorias',\n",
       " 'precio',\n",
       " 'cuotas',\n",
       " 'puntaje',\n",
       " 'IdCiudad',\n",
       " 'medio_de_pago_boleto',\n",
       " 'medio_de_pago_credit_card',\n",
       " 'medio_de_pago_debit_card',\n",
       " 'medio_de_pago_voucher']"
      ]
     },
     "execution_count": 14,
     "metadata": {},
     "output_type": "execute_result"
    }
   ],
   "source": [
    "# leer variabels de entrenamiento del modelo en joblib\n",
    "model.get_booster().feature_names"
   ]
  },
  {
   "cell_type": "code",
   "execution_count": 18,
   "metadata": {},
   "outputs": [
    {
     "name": "stdout",
     "output_type": "stream",
     "text": [
      "RMSE: 79.252\n",
      "MAE: 35.860\n",
      "R2: 0.906\n"
     ]
    },
    {
     "data": {
      "image/png": "[encoded data removed]",
      "text/plain": [
       "<Figure size 500x500 with 1 Axes>"
      ]
     },
     "metadata": {},
     "output_type": "display_data"
    }
   ],
   "source": [
    "# Modelos Random Forest\n",
    "\n",
    "from sklearn.ensemble import RandomForestRegressor\n",
    "from sklearn.metrics import accuracy_score\n",
    "from sklearn.model_selection import cross_val_score\n",
    "from sklearn.model_selection import RepeatedKFold\n",
    "from numpy import absolute\n",
    "from numpy import mean\n",
    "from numpy import std\n",
    "\n",
    "#entrenamiento del modelo\n",
    "model = RandomForestRegressor()\n",
    "model.fit(X_train, y_train)\n",
    "\n",
    "#prediccion de datos de test\n",
    "y_pred = model.predict(X_test)\n",
    "predictions = [round(value) for value in y_pred]\n",
    "\n",
    "#evaluacion del modelo\n",
    "rmse = mean_squared_error(y_test, predictions, squared=False)\n",
    "print('RMSE: %.3f' % rmse)\n",
    "mae = mean_absolute_error(y_test, predictions)\n",
    "print('MAE: %.3f' % mae)\n",
    "r2 = r2_score(y_test, predictions)\n",
    "print('R2: %.3f' % r2)\n",
    "\n",
    "#grafico de importancia de variables random forest y dale las etiquetas que corresponden a cada variable\n",
    "importances = model.feature_importances_\n",
    "indices = np.argsort(importances)\n",
    "features = X.columns\n",
    "plt.title('Importancia de variables')\n",
    "plt.barh(range(len(indices)), importances[indices], color='b', align='center')\n",
    "plt.yticks(range(len(indices)), [features[i] for i in indices])\n",
    "plt.xlabel('Importancia Relativa')\n",
    "plt.show()\n",
    "\n",
    "\n",
    "# guardar modelo en archivo joblib\n",
    "from joblib import dump\n",
    "dump(model, 'model2.joblib')\n",
    "\n",
    "# leer variables de entrenamiento del modelo random forest en joblib\n",
    "\n",
    "model.feature_importances_\n",
    "\n",
    "# cargar modelo joblib\n",
    "from joblib import load\n",
    "model = load('model2.joblib')\n"
   ]
  },
  {
   "cell_type": "code",
   "execution_count": null,
   "metadata": {},
   "outputs": [],
   "source": []
  }
 ],
 "metadata": {
  "kernelspec": {
   "display_name": "DataScience",
   "language": "python",
   "name": "python3"
  },
  "language_info": {
   "codemirror_mode": {
    "name": "ipython",
    "version": 3
   },
   "file_extension": ".py",
   "mimetype": "text/x-python",
   "name": "python",
   "nbconvert_exporter": "python",
   "pygments_lexer": "ipython3",
   "version": "3.10.0"
  }
 },
 "nbformat": 4,
 "nbformat_minor": 2
}
